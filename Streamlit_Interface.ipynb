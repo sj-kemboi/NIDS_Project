{
 "cells": [
  {
   "cell_type": "code",
   "execution_count": 1,
   "id": "e5b072bc",
   "metadata": {},
   "outputs": [
    {
     "name": "stderr",
     "output_type": "stream",
     "text": [
      "2023-03-14 18:25:46.626 INFO    numexpr.utils: NumExpr defaulting to 4 threads.\n"
     ]
    }
   ],
   "source": [
    "import streamlit as st"
   ]
  },
  {
   "cell_type": "code",
   "execution_count": 2,
   "id": "b9947280",
   "metadata": {},
   "outputs": [
    {
     "name": "stderr",
     "output_type": "stream",
     "text": [
      "2023-03-14 18:25:52.936 \n",
      "  \u001b[33m\u001b[1mWarning:\u001b[0m to view this Streamlit app on a browser, run it with the following\n",
      "  command:\n",
      "\n",
      "    streamlit run C:\\Users\\user\\anaconda3\\lib\\site-packages\\ipykernel_launcher.py [ARGUMENTS]\n"
     ]
    }
   ],
   "source": [
    "import streamlit as st\n",
    "import pandas as pd\n",
    "\n",
    "# create a title and description for the app\n",
    "st.title('Network Intrusion Detection')\n",
    "st.write('This system helps to detect network intrusions by monitoring network traffic in real-time.')\n",
    "\n",
    "# create a text input field for entering the IP address or port number to monitor\n",
    "ip_address = st.text_input('Enter the IP address or port number to monitor')\n",
    "\n",
    "# create a checkbox to enable/disable real-time monitoring\n",
    "real_time = st.checkbox('Enable real-time monitoring')\n",
    "\n",
    "# create a button to start/stop monitoring\n",
    "if st.button('Start/Stop Monitoring'):\n",
    "    if real_time:\n",
    "        # start monitoring network traffic\n",
    "        st.write('Monitoring network traffic...')\n",
    "        # code to monitor network traffic in real-time\n",
    "    else:\n",
    "        # stop monitoring network traffic\n",
    "        st.write('Stopped monitoring network traffic.')\n",
    "\n",
    "# create a table to display network traffic data\n",
    "traffic_data = pd.read_csv('Test_data.csv')\n",
    "# [\n",
    "#     {'Time': '12:00 PM', 'Source IP': '192.168.1.1', 'Destination IP': '192.168.1.2',\n",
    "#      'Protocol': 'TCP', 'Status': 'Successful'},\n",
    "#     {'Time': '12:05 PM', 'Source IP': '192.168.1.3', 'Destination IP': '192.168.1.4',\n",
    "#      'Protocol': 'UDP', 'Status': 'Failed'},\n",
    "#     {'Time': '12:10 PM', 'Source IP': '192.168.1.5', 'Destination IP': '192.168.1.6',\n",
    "#      'Protocol': 'TCP', 'Status': 'Successful'},\n",
    "# ]\n",
    "\n",
    "st.write('Network Traffic Data:')\n",
    "st.table(traffic_data)\n",
    "\n",
    "# create a plot to visualize network traffic\n",
    "st.write('Network Traffic Visualization:')\n",
    "st.line_chart([1, 2, 3, 4, 5, 6, 7, 8, 9, 10])\n",
    "\n",
    "# create a section to display intrusion alerts\n",
    "intrusion_alerts = [\n",
    "    {'Time': '12:05 PM', 'Source IP': '192.168.1.3', 'Alert': 'Unauthorized access detected'},\n",
    "    {'Time': '12:20 PM', 'Source IP': '192.168.1.7', 'Alert': 'Malware detected'},\n",
    "]\n",
    "\n",
    "st.write('Intrusion Alerts:')\n",
    "for alert in intrusion_alerts:\n",
    "    st.write(alert['Time'], '-', alert['Source IP'], '-', alert['Alert'])\n"
   ]
  },
  {
   "cell_type": "code",
   "execution_count": null,
   "id": "e52f44de",
   "metadata": {},
   "outputs": [],
   "source": []
  },
  {
   "cell_type": "code",
   "execution_count": null,
   "id": "0bcb29bf",
   "metadata": {},
   "outputs": [],
   "source": []
  }
 ],
 "metadata": {
  "kernelspec": {
   "display_name": "Python 3 (ipykernel)",
   "language": "python",
   "name": "python3"
  },
  "language_info": {
   "codemirror_mode": {
    "name": "ipython",
    "version": 3
   },
   "file_extension": ".py",
   "mimetype": "text/x-python",
   "name": "python",
   "nbconvert_exporter": "python",
   "pygments_lexer": "ipython3",
   "version": "3.9.16"
  }
 },
 "nbformat": 4,
 "nbformat_minor": 5
}
